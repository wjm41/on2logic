{
 "cells": [
  {
   "cell_type": "markdown",
   "metadata": {},
   "source": [
    "# User-friendly search\n",
    "\n",
    "This notebook implements a user-friendly visualisation performing image searches."
   ]
  },
  {
   "cell_type": "markdown",
   "metadata": {},
   "source": [
    "Load manuscript images"
   ]
  },
  {
   "cell_type": "code",
   "execution_count": 1,
   "metadata": {},
   "outputs": [],
   "source": [
    "import on2logic\n",
    "\n",
    "manuscript_dataset, manuscript_dataframe = on2logic.case_study_setup(parent_dirname='/home/wjm41/ml_physics/CDH')"
   ]
  },
  {
   "cell_type": "markdown",
   "metadata": {},
   "source": [
    "Widget for performing search"
   ]
  },
  {
   "cell_type": "code",
   "execution_count": 2,
   "metadata": {},
   "outputs": [
    {
     "data": {
      "application/vnd.jupyter.widget-view+json": {
       "model_id": "21a53e7e956a454c924b31005094be9f",
       "version_major": 2,
       "version_minor": 0
      },
      "text/plain": [
       "interactive(children=(IntSlider(value=47, description='query_index', max=94), IntSlider(value=5, description='…"
      ]
     },
     "metadata": {},
     "output_type": "display_data"
    },
    {
     "data": {
      "text/plain": [
       "<function __main__.interactive_search(query_index, number_of_images, search_type, manuscript_name_to_search)>"
      ]
     },
     "execution_count": 2,
     "metadata": {},
     "output_type": "execute_result"
    }
   ],
   "source": [
    "from ipywidgets import interact_manual, Layout\n",
    "\n",
    "### indices to look for\n",
    "# 2 - astro-christ orange circle\n",
    "# 47 - islam circle\n",
    "# 69 - natural history bugs\n",
    "# 71 - natural-poetry\n",
    "# 92 - query circle\n",
    "# 93 - query bird poetry\n",
    "\n",
    "def interactive_search(query_index, number_of_images, search_type, manuscript_name_to_search):\n",
    "    \n",
    "    on2logic.plot_top_n_similar_images_for_query(manuscript_dataset, manuscript_dataframe, manuscript_dataframe,\n",
    "                                                query_index=query_index,\n",
    "                                                n=number_of_images, \n",
    "                                                manuscript_name_to_search=manuscript_name_to_search,\n",
    "                                                search_type=search_type)\n",
    "    \n",
    "my_interact_manual = interact_manual.options(manual_name=\"Search\")\n",
    "\n",
    "my_interact_manual(interactive_search, \n",
    "         query_index = (0, len(manuscript_dataframe)-1), \n",
    "         layout=Layout(width='200%'),\n",
    "         number_of_images = (1, 10), \n",
    "         search_type = ['same', 'specific', 'all'], \n",
    "         manuscript_name_to_search=manuscript_dataframe['manuscript'].unique())\n",
    "\n"
   ]
  }
 ],
 "metadata": {
  "interpreter": {
   "hash": "eac6833362af231962bec8c4721c9efc04a2e15663029240c4e8447a086efc89"
  },
  "kernelspec": {
   "display_name": "Python 3.7.13 64-bit ('cdh')",
   "language": "python",
   "name": "python3"
  },
  "language_info": {
   "codemirror_mode": {
    "name": "ipython",
    "version": 3
   },
   "file_extension": ".py",
   "mimetype": "text/x-python",
   "name": "python",
   "nbconvert_exporter": "python",
   "pygments_lexer": "ipython3",
   "version": "3.7.13"
  },
  "orig_nbformat": 4
 },
 "nbformat": 4,
 "nbformat_minor": 2
}
